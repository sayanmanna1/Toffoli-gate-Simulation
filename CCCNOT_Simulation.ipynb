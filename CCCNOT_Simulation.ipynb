{
 "cells": [
  {
   "cell_type": "markdown",
   "id": "1291b3da",
   "metadata": {},
   "source": [
    "## Here we have provided the simulation of 4-qubit CCCNOT gate based on EPR"
   ]
  },
  {
   "cell_type": "code",
   "execution_count": null,
   "id": "de134809",
   "metadata": {},
   "outputs": [],
   "source": [
    "!pip install qiskit"
   ]
  },
  {
   "cell_type": "code",
   "execution_count": 1,
   "id": "91cef532",
   "metadata": {},
   "outputs": [],
   "source": [
    "from qiskit import QuantumCircuit\n",
    "import numpy as np\n",
    "from numpy import sqrt\n",
    "from qiskit.visualization import plot_bloch_multivector\n",
    "import qiskit.quantum_info as qi\n",
    "from qiskit.quantum_info import Statevector, DensityMatrix"
   ]
  },
  {
   "cell_type": "code",
   "execution_count": 2,
   "id": "dffe0d86",
   "metadata": {},
   "outputs": [],
   "source": [
    "def drawState(psi):\n",
    "    return psi.draw('latex', prefix='|\\\\psi\\\\rangle = ')\n",
    "\n",
    "def drawOperator(rho):\n",
    "    return rho.draw('latex', prefix='\\\\rho = ')"
   ]
  },
  {
   "cell_type": "code",
   "execution_count": 14,
   "id": "269959de",
   "metadata": {},
   "outputs": [],
   "source": [
    "ket0 =Statevector([1, 0])\n",
    "ket1 =Statevector([0, 1])"
   ]
  },
  {
   "cell_type": "code",
   "execution_count": 15,
   "id": "29bb8140",
   "metadata": {},
   "outputs": [],
   "source": [
    "ket0000 = Statevector(((ket0.tensor(ket0)).tensor(ket0)).tensor(ket0))\n",
    "ket0001 =  Statevector(((ket0.tensor(ket0)).tensor(ket0)).tensor(ket1))\n",
    "ket0010 =  Statevector(((ket0.tensor(ket0)).tensor(ket1)).tensor(ket0))\n",
    "ket0100 =  Statevector(((ket0.tensor(ket1)).tensor(ket0)).tensor(ket0))\n",
    "ket1000 =  Statevector(((ket1.tensor(ket0)).tensor(ket0)).tensor(ket0))\n",
    "ket1100 =  Statevector(((ket1.tensor(ket1)).tensor(ket0)).tensor(ket0))\n",
    "ket1010 =  Statevector(((ket1.tensor(ket0)).tensor(ket1)).tensor(ket0))\n",
    "ket1001 =  Statevector(((ket1.tensor(ket0)).tensor(ket0)).tensor(ket1))\n",
    "ket0101 =  Statevector(((ket0.tensor(ket1)).tensor(ket0)).tensor(ket1))\n",
    "ket0110 =  Statevector(((ket0.tensor(ket1)).tensor(ket1)).tensor(ket0))\n",
    "ket0011 =  Statevector(((ket0.tensor(ket0)).tensor(ket1)).tensor(ket1))\n",
    "ket1110 =  Statevector(((ket1.tensor(ket1)).tensor(ket1)).tensor(ket0))\n",
    "ket1101 =  Statevector(((ket1.tensor(ket1)).tensor(ket0)).tensor(ket1))\n",
    "ket1011 =  Statevector(((ket1.tensor(ket0)).tensor(ket1)).tensor(ket1))\n",
    "ket0111 =  Statevector(((ket0.tensor(ket1)).tensor(ket1)).tensor(ket1))\n",
    "ket1111 =  Statevector(((ket1.tensor(ket1)).tensor(ket1)).tensor(ket1))"
   ]
  },
  {
   "cell_type": "code",
   "execution_count": 16,
   "id": "1b800b48",
   "metadata": {},
   "outputs": [],
   "source": [
    "#list of all possible states for 4 qubits\n",
    "states = [ket0000,\n",
    "ket0001,\n",
    "ket0010,\n",
    "ket0100,\n",
    "ket1000,\n",
    "\n",
    "ket1100,\n",
    "ket1010,\n",
    "ket1001,\n",
    "ket0101,\n",
    "\n",
    "ket0110,\n",
    "ket0011,\n",
    "ket1110,\n",
    "ket1101,\n",
    "ket1011,\n",
    "ket0111,\n",
    "ket1111]"
   ]
  },
  {
   "cell_type": "code",
   "execution_count": 70,
   "id": "330fe0e4",
   "metadata": {},
   "outputs": [],
   "source": [
    "#importing the Pauli operators and Hadamard operator\n",
    "X = qi.Operator.from_label('X')\n",
    "Y = qi.Operator.from_label('Y')\n",
    "Z = qi.Operator.from_label('Z')\n",
    "I = qi.Operator.from_label('I')\n",
    "H = qi.Operator.from_label('H')"
   ]
  },
  {
   "cell_type": "code",
   "execution_count": 6,
   "id": "487aa5c8",
   "metadata": {},
   "outputs": [],
   "source": [
    "I4 = I.tensor(I) # 4x4 identity matrix\n",
    "I8 = I4.tensor(I)# 8x8 identity matrix\n",
    "IIZ = (I.tensor(I)).tensor(Z)\n",
    "IZI = (I.tensor(Z)).tensor(I)\n",
    "ZII = (Z.tensor(I)).tensor(I)\n",
    "\n",
    "ZZI = (Z.tensor(Z)).tensor(I)\n",
    "IZZ = (I.tensor(Z)).tensor(Z)\n",
    "IYI = I.tensor(Y.tensor(I))"
   ]
  },
  {
   "cell_type": "code",
   "execution_count": 7,
   "id": "dcc738dd",
   "metadata": {},
   "outputs": [],
   "source": [
    "I16 = I8.tensor(I) #16x16 identity matrix\n",
    "ZIII = ZII.tensor(I)\n",
    "IZII = IZI.tensor(I)\n",
    "IIZI = IIZ.tensor(I)\n",
    "IIIZ = I8.tensor(Z)\n",
    "\n",
    "ZZII = ZZI.tensor(I)\n",
    "IZZI = IZZ.tensor(I)\n",
    "IIZZ = I.tensor(IZZ)\n",
    "\n",
    "ZIZI = Z.tensor(I.tensor(Z.tensor(I)))\n",
    "ZIIZ = Z.tensor(I.tensor(I.tensor(Z)))\n",
    "IZIZ = IZI.tensor(Z)\n",
    "\n",
    "IYII = I.tensor(Y.tensor(I.tensor(I)))\n",
    "YIII =Y.tensor(I.tensor(I.tensor(I)))\n",
    "IIYI =I.tensor(I.tensor(Y.tensor(I)))\n",
    "IIIY = I.tensor(I.tensor(I.tensor(Y)))"
   ]
  },
  {
   "cell_type": "code",
   "execution_count": 19,
   "id": "1c12a790",
   "metadata": {},
   "outputs": [],
   "source": [
    "def exponential4(x, A): #to calculate the unitary operator for 4 qubits (e^(iAx)=cos(x)I+i sin(x)A)\n",
    "  m = np.cos(x)\n",
    "  if m<pow(10, -5):\n",
    "    m=0\n",
    "  a = m*I16\n",
    "  b = np.sin(x)*A\n",
    "  return a+1j*b\n",
    "\n",
    "def mul(A,B):#matrix multiplication\n",
    "  return np.matmul(A,B)\n",
    "\n",
    "def result(U, ket):#result of the new state when U is applied on some state\n",
    "    x = Statevector(np.matmul(U,ket))\n",
    "    return x"
   ]
  },
  {
   "cell_type": "markdown",
   "id": "68aca1f6",
   "metadata": {},
   "source": [
    "# CNOT gates"
   ]
  },
  {
   "cell_type": "markdown",
   "id": "55fe3483",
   "metadata": {},
   "source": [
    "####  Calculate U<sub>ϕ</sub> for CNOT "
   ]
  },
  {
   "cell_type": "code",
   "execution_count": 9,
   "id": "5579f24d",
   "metadata": {},
   "outputs": [],
   "source": [
    "c1 = exponential4(-np.pi/4, I16)\n",
    "c2 = exponential4(-np.pi/4, IIZZ)\n",
    "c3 = exponential4(-np.pi/4, IZIZ)\n",
    "c4 = exponential4(-np.pi/4, IZZI)\n",
    "c5 = exponential4(-np.pi/4, ZIIZ)\n",
    "c6 = exponential4(-np.pi/4, ZIZI)\n",
    "c7 = exponential4(-np.pi/4, ZZII)\n",
    "c8 = exponential4(np.pi/4, IIIZ)\n",
    "c9 = exponential4(np.pi/4, IIZI)\n",
    "c10 = exponential4(np.pi/4, IZII)\n",
    "c11 = exponential4(np.pi/4, ZIII)"
   ]
  },
  {
   "cell_type": "code",
   "execution_count": 10,
   "id": "c898729a",
   "metadata": {},
   "outputs": [
    {
     "data": {
      "text/latex": [
       "$$\n",
       "\\rho = \n",
       "\\begin{bmatrix}\n",
       "- \\frac{\\sqrt{2}}{2} - \\frac{\\sqrt{2} i}{2} & 0 & 0 & 0 & \\cdots & 0 & 0 & 0  \\\\\n",
       " 0 & \\frac{\\sqrt{2}}{2} + \\frac{\\sqrt{2} i}{2} & 0 & 0 & \\cdots & 0 & 0 & 0  \\\\\n",
       " 0 & 0 & \\frac{\\sqrt{2}}{2} + \\frac{\\sqrt{2} i}{2} & 0 & \\cdots & 0 & 0 & 0  \\\\\n",
       " 0 & 0 & 0 & \\frac{\\sqrt{2}}{2} + \\frac{\\sqrt{2} i}{2} & \\cdots & 0 & 0 & 0  \\\\\n",
       " \\vdots & \\vdots & \\vdots & \\vdots & \\ddots & \\vdots & \\vdots & \\vdots \\\\\n",
       " 0 & 0 & 0 & 0 & \\cdots & - \\frac{\\sqrt{2}}{2} - \\frac{\\sqrt{2} i}{2} & 0 & 0  \\\\\n",
       " 0 & 0 & 0 & 0 & \\cdots & 0 & - \\frac{\\sqrt{2}}{2} - \\frac{\\sqrt{2} i}{2} & 0  \\\\\n",
       " 0 & 0 & 0 & 0 & \\cdots & 0 & 0 & - \\frac{\\sqrt{2}}{2} - \\frac{\\sqrt{2} i}{2}  \\\\\n",
       " \\end{bmatrix}\n",
       "$$"
      ],
      "text/plain": [
       "<IPython.core.display.Latex object>"
      ]
     },
     "execution_count": 10,
     "metadata": {},
     "output_type": "execute_result"
    }
   ],
   "source": [
    "m1 = mul(c2,c1)\n",
    "m2 = mul(c3,m1)\n",
    "m3 = mul(c4,m2)\n",
    "m4 = mul(c5,m3)\n",
    "m5 = mul(c6,m4)\n",
    "m6 = mul(c7,m5)\n",
    "m7 = mul(c8,m6)\n",
    "m8 = mul(c9,m7)\n",
    "m9 = mul(c10,m8)\n",
    "m10 = mul(c11,m9)\n",
    "\n",
    "U_phi_CNOT = DensityMatrix(m10)\n",
    "\n",
    "drawOperator(U_phi_CNOT)"
   ]
  },
  {
   "cell_type": "markdown",
   "id": "880f5db4",
   "metadata": {},
   "source": [
    "#### U_CNOT_12 (WIth control qubit is 1 and target qubit is 2 )\n"
   ]
  },
  {
   "cell_type": "code",
   "execution_count": 11,
   "id": "00d72d16",
   "metadata": {},
   "outputs": [],
   "source": [
    "Z3Z4 = DensityMatrix(mul(IIZI, IIIZ) )\n",
    "Z2Z3 = DensityMatrix(mul(IZII, IIZI) )\n",
    "Z2Z4 = DensityMatrix(mul(IZII, IIIZ) )\n",
    "Z1Z2 = DensityMatrix(mul(ZIII, IZII) )\n",
    "\n",
    "Z1Z3 = DensityMatrix(mul(ZIII, IIZI) )\n",
    "Z1Z4 = DensityMatrix(mul(ZIII, IIIZ) )\n",
    "\n",
    "Z3Z1 = DensityMatrix(mul(IIIZ, ZIII) )\n",
    "Z3Z2 = DensityMatrix(mul(IIZI, IZII) )\n",
    "Z2Z1 = DensityMatrix(mul(IZII, ZIII) )"
   ]
  },
  {
   "cell_type": "code",
   "execution_count": 12,
   "id": "297af9ae",
   "metadata": {},
   "outputs": [],
   "source": [
    "r1 = exponential4(np.pi/4, IYII)\n",
    "r2 = exponential4(-np.pi/4, IIIZ)\n",
    "r3 = exponential4(-np.pi/4, IIZI)\n",
    "r4 = exponential4(np.pi/4, Z3Z4)\n",
    "r5 = exponential4(np.pi/4, Z2Z4)\n",
    "r6 = exponential4(np.pi/4, Z2Z3)\n",
    "r7 = exponential4(np.pi/4, Z1Z4)\n",
    "r8 = exponential4(np.pi/4, Z1Z3)\n",
    "r9 = U_phi_CNOT\n",
    "r10 = exponential4(-np.pi/4, IYII)"
   ]
  },
  {
   "cell_type": "code",
   "execution_count": 13,
   "id": "06bbe14d",
   "metadata": {},
   "outputs": [
    {
     "data": {
      "text/latex": [
       "$$\n",
       "\\rho = \n",
       "\\begin{bmatrix}\n",
       "1 & 0 & 0 & 0 & \\cdots & 0 & 0 & 0  \\\\\n",
       " 0 & 1 & 0 & 0 & \\cdots & 0 & 0 & 0  \\\\\n",
       " 0 & 0 & 1 & 0 & \\cdots & 0 & 0 & 0  \\\\\n",
       " 0 & 0 & 0 & 1 & \\cdots & 0 & 0 & 0  \\\\\n",
       " \\vdots & \\vdots & \\vdots & \\vdots & \\ddots & \\vdots & \\vdots & \\vdots \\\\\n",
       " 0 & 0 & 0 & 0 & \\cdots & 0 & 0 & 0  \\\\\n",
       " 0 & 0 & 0 & 0 & \\cdots & 0 & 0 & 0  \\\\\n",
       " 0 & 0 & 0 & 0 & \\cdots & 0 & 0 & 0  \\\\\n",
       " \\end{bmatrix}\n",
       "$$"
      ],
      "text/plain": [
       "<IPython.core.display.Latex object>"
      ]
     },
     "execution_count": 13,
     "metadata": {},
     "output_type": "execute_result"
    }
   ],
   "source": [
    "s1 = mul(r2,r1)\n",
    "s2 = mul(r3,s1)\n",
    "s3 = mul(r4,s2)\n",
    "s4 = mul(r5,s3)\n",
    "s5 = mul(r6,s4)\n",
    "s6 = mul(r7,s5)\n",
    "s7 = mul(r8,s6)\n",
    "s8 = mul(r9,s7)\n",
    "s9 = mul(r10,s8)\n",
    "\n",
    "U_CNOT_12 = DensityMatrix(s9)\n",
    "\n",
    "drawOperator(U_CNOT_12)"
   ]
  },
  {
   "cell_type": "markdown",
   "id": "e6524680",
   "metadata": {},
   "source": [
    "##### Check U_CNOT_12 on some state"
   ]
  },
  {
   "cell_type": "code",
   "execution_count": 20,
   "id": "a1cb370d",
   "metadata": {},
   "outputs": [
    {
     "data": {
      "text/latex": [
       "$$|\\psi\\rangle =  |1111\\rangle$$"
      ],
      "text/plain": [
       "<IPython.core.display.Latex object>"
      ]
     },
     "execution_count": 20,
     "metadata": {},
     "output_type": "execute_result"
    }
   ],
   "source": [
    "psi = states[15]\n",
    "drawState(psi)"
   ]
  },
  {
   "cell_type": "code",
   "execution_count": 21,
   "id": "02cbabf0",
   "metadata": {},
   "outputs": [
    {
     "data": {
      "text/latex": [
       "$$|\\psi\\rangle =  |1011\\rangle$$"
      ],
      "text/plain": [
       "<IPython.core.display.Latex object>"
      ]
     },
     "execution_count": 21,
     "metadata": {},
     "output_type": "execute_result"
    }
   ],
   "source": [
    "psi_new= result(U_CNOT_12, psi)\n",
    "\n",
    "drawState(psi_new)"
   ]
  },
  {
   "cell_type": "markdown",
   "id": "bf30d05a",
   "metadata": {},
   "source": [
    "#### U_CNOT_23 (control qubit is 2 and target qubit is 3 )\n"
   ]
  },
  {
   "cell_type": "code",
   "execution_count": 23,
   "id": "404cc446",
   "metadata": {},
   "outputs": [],
   "source": [
    "r1 = exponential4(np.pi/4, IIYI)\n",
    "r2 = exponential4(-np.pi/4, IIIZ)\n",
    "r3 = exponential4(-np.pi/4, ZIII)\n",
    "r4 = exponential4(np.pi/4, Z3Z4)\n",
    "r5 = exponential4(np.pi/4, Z2Z4)\n",
    "r6 = exponential4(np.pi/4, Z1Z4)\n",
    "r7 = exponential4(np.pi/4, Z1Z3)\n",
    "r8 = exponential4(np.pi/4, Z1Z2)\n",
    "r9 = U_phi_CNOT\n",
    "r10 = exponential4(-np.pi/4, IIYI)"
   ]
  },
  {
   "cell_type": "code",
   "execution_count": 24,
   "id": "1d62f2ba",
   "metadata": {},
   "outputs": [
    {
     "data": {
      "text/latex": [
       "$$\n",
       "\\rho = \n",
       "\\begin{bmatrix}\n",
       "1 & 0 & 0 & 0 & \\cdots & 0 & 0 & 0  \\\\\n",
       " 0 & 1 & 0 & 0 & \\cdots & 0 & 0 & 0  \\\\\n",
       " 0 & 0 & 1 & 0 & \\cdots & 0 & 0 & 0  \\\\\n",
       " 0 & 0 & 0 & 1 & \\cdots & 0 & 0 & 0  \\\\\n",
       " \\vdots & \\vdots & \\vdots & \\vdots & \\ddots & \\vdots & \\vdots & \\vdots \\\\\n",
       " 0 & 0 & 0 & 0 & \\cdots & 0 & 0 & 1  \\\\\n",
       " 0 & 0 & 0 & 0 & \\cdots & 0 & 0 & 0  \\\\\n",
       " 0 & 0 & 0 & 0 & \\cdots & 1 & 0 & 0  \\\\\n",
       " \\end{bmatrix}\n",
       "$$"
      ],
      "text/plain": [
       "<IPython.core.display.Latex object>"
      ]
     },
     "execution_count": 24,
     "metadata": {},
     "output_type": "execute_result"
    }
   ],
   "source": [
    "s1 = mul(r2,r1)\n",
    "s2 = mul(r3,s1)\n",
    "s3 = mul(r4,s2)\n",
    "s4 = mul(r5,s3)\n",
    "s5 = mul(r6,s4)\n",
    "s6 = mul(r7,s5)\n",
    "s7 = mul(r8,s6)\n",
    "s8 = mul(r9,s7)\n",
    "s9 = mul(r10,s8)\n",
    "\n",
    "U_CNOT_23 = DensityMatrix(s9)\n",
    "\n",
    "drawOperator(U_CNOT_23)"
   ]
  },
  {
   "cell_type": "code",
   "execution_count": 25,
   "id": "8a000888",
   "metadata": {},
   "outputs": [
    {
     "data": {
      "text/latex": [
       "$$|\\psi\\rangle =  |1101\\rangle$$"
      ],
      "text/plain": [
       "<IPython.core.display.Latex object>"
      ]
     },
     "execution_count": 25,
     "metadata": {},
     "output_type": "execute_result"
    }
   ],
   "source": [
    "psi_new= result(U_CNOT_23, psi)\n",
    "\n",
    "drawState(psi_new)"
   ]
  },
  {
   "cell_type": "markdown",
   "id": "bcf1d552",
   "metadata": {},
   "source": [
    "#### U_CNOT_13 (control qubit is 1 and target qubit is 3 )\n"
   ]
  },
  {
   "cell_type": "markdown",
   "id": "0d2bfed1",
   "metadata": {},
   "source": [
    "As, this gate is not in between 2 consecutive qubits, therefore we need a different U_phi for this"
   ]
  },
  {
   "cell_type": "code",
   "execution_count": 26,
   "id": "973b7d1d",
   "metadata": {},
   "outputs": [],
   "source": [
    "c1 = exponential4(-np.pi/4, I16)\n",
    "c2 = exponential4(-np.pi/4, IIZZ)\n",
    "c3 = exponential4(-np.pi/4, IZIZ)\n",
    "c4 = exponential4(-np.pi/4, IZZI)\n",
    "c5 = exponential4(-np.pi/4, ZIIZ)\n",
    "c6 = exponential4(-np.pi/4, ZIZI)\n",
    "c7 = exponential4(-np.pi/4, ZZII)\n",
    "c8 = exponential4(np.pi/4, IIIZ)\n",
    "c9 = exponential4(np.pi/4, IIZI)\n",
    "c10 = exponential4(np.pi/4, IZII)\n",
    "c11 = exponential4(np.pi/4, ZIII)"
   ]
  },
  {
   "cell_type": "code",
   "execution_count": 28,
   "id": "736709cf",
   "metadata": {},
   "outputs": [],
   "source": [
    "m1 = mul(c2,c1)\n",
    "m2 = mul(c3,m1)\n",
    "m3 = mul(c4,m2)\n",
    "m4 = mul(c5,m3)\n",
    "m5 = mul(c6,m4)\n",
    "m6 = mul(c7,m5)\n",
    "m7 = mul(c8,m6)\n",
    "m8 = mul(c9,m7)\n",
    "m9 = mul(c10,m8)\n",
    "m10 = mul(c11,m9)\n",
    "\n",
    "U_phi_CNOT_13 = DensityMatrix(m10)"
   ]
  },
  {
   "cell_type": "code",
   "execution_count": 29,
   "id": "802b7890",
   "metadata": {},
   "outputs": [],
   "source": [
    "r1 = exponential4(np.pi/4, IIYI)\n",
    "r2 = exponential4(-np.pi/4, IIIZ)\n",
    "r3 = exponential4(-np.pi/4, IZII)\n",
    "r4 = exponential4(np.pi/4, Z3Z4)\n",
    "r5 = exponential4(np.pi/4, Z2Z4)\n",
    "r6 = exponential4(np.pi/4, Z2Z3)\n",
    "r7 = exponential4(np.pi/4, Z1Z4)\n",
    "r8 = exponential4(np.pi/4, Z1Z2)\n",
    "r9 = U_phi_CNOT_13\n",
    "r10 = exponential4(-np.pi/4, IIYI)"
   ]
  },
  {
   "cell_type": "code",
   "execution_count": 30,
   "id": "8b3073f4",
   "metadata": {},
   "outputs": [
    {
     "data": {
      "text/latex": [
       "$$\n",
       "\\rho = \n",
       "\\begin{bmatrix}\n",
       "1 & 0 & 0 & 0 & \\cdots & 0 & 0 & 0  \\\\\n",
       " 0 & 1 & 0 & 0 & \\cdots & 0 & 0 & 0  \\\\\n",
       " 0 & 0 & 1 & 0 & \\cdots & 0 & 0 & 0  \\\\\n",
       " 0 & 0 & 0 & 1 & \\cdots & 0 & 0 & 0  \\\\\n",
       " \\vdots & \\vdots & \\vdots & \\vdots & \\ddots & \\vdots & \\vdots & \\vdots \\\\\n",
       " 0 & 0 & 0 & 0 & \\cdots & 0 & 0 & 1  \\\\\n",
       " 0 & 0 & 0 & 0 & \\cdots & 0 & 0 & 0  \\\\\n",
       " 0 & 0 & 0 & 0 & \\cdots & 1 & 0 & 0  \\\\\n",
       " \\end{bmatrix}\n",
       "$$"
      ],
      "text/plain": [
       "<IPython.core.display.Latex object>"
      ]
     },
     "execution_count": 30,
     "metadata": {},
     "output_type": "execute_result"
    }
   ],
   "source": [
    "s1 = mul(r2,r1)\n",
    "s2 = mul(r3,s1)\n",
    "s3 = mul(r4,s2)\n",
    "s4 = mul(r5,s3)\n",
    "s5 = mul(r6,s4)\n",
    "s6 = mul(r7,s5)\n",
    "s7 = mul(r8,s6)\n",
    "s8 = mul(r9,s7)\n",
    "s9 = mul(r10,s8)\n",
    "\n",
    "U_CNOT_13 = DensityMatrix(s9)\n",
    "\n",
    "drawOperator(U_CNOT_13)"
   ]
  },
  {
   "cell_type": "code",
   "execution_count": 31,
   "id": "99f40500",
   "metadata": {},
   "outputs": [
    {
     "data": {
      "text/latex": [
       "$$|\\psi\\rangle =  |1101\\rangle$$"
      ],
      "text/plain": [
       "<IPython.core.display.Latex object>"
      ]
     },
     "execution_count": 31,
     "metadata": {},
     "output_type": "execute_result"
    }
   ],
   "source": [
    "drawState(result(U_CNOT_13, psi))"
   ]
  },
  {
   "cell_type": "markdown",
   "id": "f12a5391",
   "metadata": {},
   "source": [
    "# Controlled-X^(1/4) gates"
   ]
  },
  {
   "cell_type": "markdown",
   "id": "2e6af4f2",
   "metadata": {},
   "source": [
    "#### U_SSX_14 (control qubit 1 and target qubit 4)\n"
   ]
  },
  {
   "cell_type": "code",
   "execution_count": 32,
   "id": "050cebeb",
   "metadata": {},
   "outputs": [],
   "source": [
    "c1 = exponential4(np.pi/16, I16)\n",
    "c2 = exponential4(np.pi/16, IIZZ)\n",
    "c3 = exponential4(np.pi/16, IZIZ)\n",
    "c4 = exponential4(np.pi/16, IZZI)\n",
    "c5 = exponential4(np.pi/16, ZIIZ)\n",
    "c6 = exponential4(np.pi/16, ZIZI)\n",
    "c7 = exponential4(np.pi/16, ZZII)\n",
    "c8 = exponential4(-np.pi/16, IIIZ)\n",
    "c9 = exponential4(-np.pi/16, IIZI)\n",
    "c10 = exponential4(-np.pi/16, IZII)\n",
    "c11 = exponential4(-np.pi/16, ZIII)"
   ]
  },
  {
   "cell_type": "code",
   "execution_count": 33,
   "id": "1d594acc",
   "metadata": {},
   "outputs": [],
   "source": [
    "m1 = mul(c2,c1)\n",
    "m2 = mul(c3,m1)\n",
    "m3 = mul(c4,m2)\n",
    "m4 = mul(c5,m3)\n",
    "m5 = mul(c6,m4)\n",
    "m6 = mul(c7,m5)\n",
    "m7 = mul(c8,m6)\n",
    "m8 = mul(c9,m7)\n",
    "m9 = mul(c10,m8)\n",
    "m10 = mul(c11,m9)\n",
    "\n",
    "U_phi_SSX_14 = m10"
   ]
  },
  {
   "cell_type": "code",
   "execution_count": 34,
   "id": "a6f41261",
   "metadata": {},
   "outputs": [],
   "source": [
    "r1 = exponential4(np.pi/4, IIIY)\n",
    "r2 = exponential4(np.pi/16, IIZI)\n",
    "r3 = exponential4(np.pi/16, IZII)\n",
    "r4 = exponential4(-np.pi/16, Z3Z4)\n",
    "r5 = exponential4(-np.pi/16, Z2Z4)\n",
    "r6 = exponential4(-np.pi/16, Z2Z3)\n",
    "r7 = exponential4(-np.pi/16, Z1Z3)\n",
    "r8 = exponential4(-np.pi/16, Z1Z2)\n",
    "r9 = U_phi_SSX_14\n",
    "r10 = exponential4(-np.pi/4, IIIY)"
   ]
  },
  {
   "cell_type": "code",
   "execution_count": 35,
   "id": "64f033ef",
   "metadata": {},
   "outputs": [
    {
     "data": {
      "text/latex": [
       "$$\n",
       "\\rho = \n",
       "\\begin{bmatrix}\n",
       "1 & 0 & 0 & 0 & \\cdots & 0 & 0 & 0  \\\\\n",
       " 0 & 1 & 0 & 0 & \\cdots & 0 & 0 & 0  \\\\\n",
       " 0 & 0 & 1 & 0 & \\cdots & 0 & 0 & 0  \\\\\n",
       " 0 & 0 & 0 & 1 & \\cdots & 0 & 0 & 0  \\\\\n",
       " \\vdots & \\vdots & \\vdots & \\vdots & \\ddots & \\vdots & \\vdots & \\vdots \\\\\n",
       " 0 & 0 & 0 & 0 & \\cdots & 0.8535533906 + 0.3535533906 i & 0 & 0  \\\\\n",
       " 0 & 0 & 0 & 0 & \\cdots & 0 & 0.8535533906 + 0.3535533906 i & 0.1464466094 - 0.3535533906 i  \\\\\n",
       " 0 & 0 & 0 & 0 & \\cdots & 0 & 0.1464466094 - 0.3535533906 i & 0.8535533906 + 0.3535533906 i  \\\\\n",
       " \\end{bmatrix}\n",
       "$$"
      ],
      "text/plain": [
       "<IPython.core.display.Latex object>"
      ]
     },
     "execution_count": 35,
     "metadata": {},
     "output_type": "execute_result"
    }
   ],
   "source": [
    "s1 = mul(r2,r1)\n",
    "s2 = mul(r3,s1)\n",
    "s3 = mul(r4,s2)\n",
    "s4 = mul(r5,s3)\n",
    "s5 = mul(r6,s4)\n",
    "s6 = mul(r7,s5)\n",
    "s7 = mul(r8,s6)\n",
    "s8 = mul(r9,s7)\n",
    "s9 = mul(r10,s8)\n",
    "\n",
    "U_SSX_14 = DensityMatrix(s9)\n",
    "\n",
    "drawOperator(U_SSX_14)"
   ]
  },
  {
   "cell_type": "code",
   "execution_count": 36,
   "id": "7090bf8c",
   "metadata": {},
   "outputs": [
    {
     "data": {
      "text/latex": [
       "$$|\\psi\\rangle =  |1111\\rangle$$"
      ],
      "text/plain": [
       "<IPython.core.display.Latex object>"
      ]
     },
     "execution_count": 36,
     "metadata": {},
     "output_type": "execute_result"
    }
   ],
   "source": [
    "drawState(psi)"
   ]
  },
  {
   "cell_type": "code",
   "execution_count": 37,
   "id": "5023c09d",
   "metadata": {},
   "outputs": [
    {
     "data": {
      "text/latex": [
       "$$|\\psi\\rangle = (0.1464466094 - 0.3535533906 i) |1110\\rangle+(0.8535533906 + 0.3535533906 i) |1111\\rangle$$"
      ],
      "text/plain": [
       "<IPython.core.display.Latex object>"
      ]
     },
     "execution_count": 37,
     "metadata": {},
     "output_type": "execute_result"
    }
   ],
   "source": [
    "psi_new = result(U_SSX_14, psi)\n",
    "drawState(psi_new)"
   ]
  },
  {
   "cell_type": "markdown",
   "id": "f286160d",
   "metadata": {},
   "source": [
    "#### U_SSX_34 (control qubit 3 and target qubit 4)"
   ]
  },
  {
   "cell_type": "code",
   "execution_count": 38,
   "id": "7efa0fb8",
   "metadata": {},
   "outputs": [],
   "source": [
    "c1 = exponential4(np.pi/16, I16)\n",
    "c2 = exponential4(np.pi/16, IIZZ)\n",
    "c3 = exponential4(np.pi/16, IZIZ)\n",
    "c4 = exponential4(np.pi/16, IZZI)\n",
    "c5 = exponential4(np.pi/16, ZIIZ)\n",
    "c6 = exponential4(np.pi/16, ZIZI)\n",
    "c7 = exponential4(np.pi/16, ZZII)\n",
    "c8 = exponential4(-np.pi/16, IIIZ)\n",
    "c9 = exponential4(-np.pi/16, IIZI)\n",
    "c10 = exponential4(-np.pi/16, IZII)\n",
    "c11 = exponential4(-np.pi/16, ZIII)"
   ]
  },
  {
   "cell_type": "code",
   "execution_count": 39,
   "id": "b3ec76dc",
   "metadata": {},
   "outputs": [],
   "source": [
    "m1 = mul(c2,c1)\n",
    "m2 = mul(c3,m1)\n",
    "m3 = mul(c4,m2)\n",
    "m4 = mul(c5,m3)\n",
    "m5 = mul(c6,m4)\n",
    "m6 = mul(c7,m5)\n",
    "m7 = mul(c8,m6)\n",
    "m8 = mul(c9,m7)\n",
    "m9 = mul(c10,m8)\n",
    "m10 = mul(c11,m9)\n",
    "\n",
    "U_phi_SSX_34 = m10"
   ]
  },
  {
   "cell_type": "code",
   "execution_count": 40,
   "id": "0ae8c54b",
   "metadata": {},
   "outputs": [],
   "source": [
    "r1 = exponential4(np.pi/4, IIIY)\n",
    "r2 = exponential4(np.pi/16, IZII)\n",
    "r3 = exponential4(np.pi/16, ZIII)\n",
    "r4 = exponential4(-np.pi/16, Z2Z4)\n",
    "r5 = exponential4(-np.pi/16, Z2Z3)\n",
    "r6 = exponential4(-np.pi/16, Z1Z4)\n",
    "r7 = exponential4(-np.pi/16, Z1Z3)\n",
    "r8 = exponential4(-np.pi/16, Z1Z2)\n",
    "r9 = U_phi_SSX_34\n",
    "r10 = exponential4(-np.pi/4, IIIY)"
   ]
  },
  {
   "cell_type": "code",
   "execution_count": 41,
   "id": "7573ba1f",
   "metadata": {},
   "outputs": [
    {
     "data": {
      "text/latex": [
       "$$\n",
       "\\rho = \n",
       "\\begin{bmatrix}\n",
       "1 & 0 & 0 & 0 & \\cdots & 0 & 0 & 0  \\\\\n",
       " 0 & 1 & 0 & 0 & \\cdots & 0 & 0 & 0  \\\\\n",
       " 0 & 0 & 0.8535533906 + 0.3535533906 i & 0.1464466094 - 0.3535533906 i & \\cdots & 0 & 0 & 0  \\\\\n",
       " 0 & 0 & 0.1464466094 - 0.3535533906 i & 0.8535533906 + 0.3535533906 i & \\cdots & 0 & 0 & 0  \\\\\n",
       " \\vdots & \\vdots & \\vdots & \\vdots & \\ddots & \\vdots & \\vdots & \\vdots \\\\\n",
       " 0 & 0 & 0 & 0 & \\cdots & 1 & 0 & 0  \\\\\n",
       " 0 & 0 & 0 & 0 & \\cdots & 0 & 0.8535533906 + 0.3535533906 i & 0.1464466094 - 0.3535533906 i  \\\\\n",
       " 0 & 0 & 0 & 0 & \\cdots & 0 & 0.1464466094 - 0.3535533906 i & 0.8535533906 + 0.3535533906 i  \\\\\n",
       " \\end{bmatrix}\n",
       "$$"
      ],
      "text/plain": [
       "<IPython.core.display.Latex object>"
      ]
     },
     "execution_count": 41,
     "metadata": {},
     "output_type": "execute_result"
    }
   ],
   "source": [
    "s1 = mul(r2,r1)\n",
    "s2 = mul(r3,s1)\n",
    "s3 = mul(r4,s2)\n",
    "s4 = mul(r5,s3)\n",
    "s5 = mul(r6,s4)\n",
    "s6 = mul(r7,s5)\n",
    "s7 = mul(r8,s6)\n",
    "s8 = mul(r9,s7)\n",
    "s9 = mul(r10,s8)\n",
    "\n",
    "U_SSX_34 = DensityMatrix(s9)\n",
    "\n",
    "drawOperator(U_SSX_34)"
   ]
  },
  {
   "cell_type": "markdown",
   "id": "b7f6e7a3",
   "metadata": {},
   "source": [
    "#### U_SSX_dagger_34 (control qubit 3 and target qubit 4)"
   ]
  },
  {
   "cell_type": "code",
   "execution_count": 46,
   "id": "22be1621",
   "metadata": {},
   "outputs": [],
   "source": [
    "U_SSX_dagger_34 = U_SSX_34.conjugate()"
   ]
  },
  {
   "cell_type": "code",
   "execution_count": 47,
   "id": "b7363ecc",
   "metadata": {},
   "outputs": [
    {
     "data": {
      "text/latex": [
       "$$|\\psi\\rangle = (0.1464466094 + 0.3535533906 i) |1110\\rangle+(0.8535533906 - 0.3535533906 i) |1111\\rangle$$"
      ],
      "text/plain": [
       "<IPython.core.display.Latex object>"
      ]
     },
     "execution_count": 47,
     "metadata": {},
     "output_type": "execute_result"
    }
   ],
   "source": [
    "drawState(result(U_SSX_dagger_34, psi))"
   ]
  },
  {
   "cell_type": "markdown",
   "id": "0d0ec0e0",
   "metadata": {},
   "source": [
    "#### U_SSX_24 (control qubit 2 and target qubit 4)"
   ]
  },
  {
   "cell_type": "code",
   "execution_count": 48,
   "id": "6a8ab6db",
   "metadata": {},
   "outputs": [],
   "source": [
    "c1 = exponential4(np.pi/16, I16)\n",
    "c2 = exponential4(np.pi/16, IIZZ)\n",
    "c3 = exponential4(np.pi/16, IZIZ)\n",
    "c4 = exponential4(np.pi/16, IZZI)\n",
    "c5 = exponential4(np.pi/16, ZIIZ)\n",
    "c6 = exponential4(np.pi/16, ZIZI)\n",
    "c7 = exponential4(np.pi/16, ZZII)\n",
    "c8 = exponential4(-np.pi/16, IIIZ)\n",
    "c9 = exponential4(-np.pi/16, IIZI)\n",
    "c10 = exponential4(-np.pi/16, IZII)\n",
    "c11 = exponential4(-np.pi/16, ZIII)"
   ]
  },
  {
   "cell_type": "code",
   "execution_count": 49,
   "id": "a907a31b",
   "metadata": {},
   "outputs": [],
   "source": [
    "m1 = mul(c2,c1)\n",
    "m2 = mul(c3,m1)\n",
    "m3 = mul(c4,m2)\n",
    "m4 = mul(c5,m3)\n",
    "m5 = mul(c6,m4)\n",
    "m6 = mul(c7,m5)\n",
    "m7 = mul(c8,m6)\n",
    "m8 = mul(c9,m7)\n",
    "m9 = mul(c10,m8)\n",
    "m10 = mul(c11,m9)\n",
    "\n",
    "U_phi_SSX_24 = m10"
   ]
  },
  {
   "cell_type": "code",
   "execution_count": 50,
   "id": "db1177c1",
   "metadata": {},
   "outputs": [],
   "source": [
    "r1 = exponential4(np.pi/4, IIIY)\n",
    "r2 = exponential4(np.pi/16, IIZI)\n",
    "r3 = exponential4(np.pi/16, ZIII)\n",
    "r4 = exponential4(-np.pi/16, Z3Z4)\n",
    "r5 = exponential4(-np.pi/16, Z2Z3)\n",
    "r6 = exponential4(-np.pi/16, Z1Z4)\n",
    "r7 = exponential4(-np.pi/16, Z1Z3)\n",
    "r8 = exponential4(-np.pi/16, Z1Z2)\n",
    "r9 = U_phi_SSX_24\n",
    "r10 = exponential4(-np.pi/4, IIIY)"
   ]
  },
  {
   "cell_type": "code",
   "execution_count": 51,
   "id": "433aa210",
   "metadata": {},
   "outputs": [
    {
     "data": {
      "text/latex": [
       "$$\n",
       "\\rho = \n",
       "\\begin{bmatrix}\n",
       "1 & 0 & 0 & 0 & \\cdots & 0 & 0 & 0  \\\\\n",
       " 0 & 1 & 0 & 0 & \\cdots & 0 & 0 & 0  \\\\\n",
       " 0 & 0 & 1 & 0 & \\cdots & 0 & 0 & 0  \\\\\n",
       " 0 & 0 & 0 & 1 & \\cdots & 0 & 0 & 0  \\\\\n",
       " \\vdots & \\vdots & \\vdots & \\vdots & \\ddots & \\vdots & \\vdots & \\vdots \\\\\n",
       " 0 & 0 & 0 & 0 & \\cdots & 0.8535533906 + 0.3535533906 i & 0 & 0  \\\\\n",
       " 0 & 0 & 0 & 0 & \\cdots & 0 & 0.8535533906 + 0.3535533906 i & 0.1464466094 - 0.3535533906 i  \\\\\n",
       " 0 & 0 & 0 & 0 & \\cdots & 0 & 0.1464466094 - 0.3535533906 i & 0.8535533906 + 0.3535533906 i  \\\\\n",
       " \\end{bmatrix}\n",
       "$$"
      ],
      "text/plain": [
       "<IPython.core.display.Latex object>"
      ]
     },
     "execution_count": 51,
     "metadata": {},
     "output_type": "execute_result"
    }
   ],
   "source": [
    "s1 = mul(r2,r1)\n",
    "s2 = mul(r3,s1)\n",
    "s3 = mul(r4,s2)\n",
    "s4 = mul(r5,s3)\n",
    "s5 = mul(r6,s4)\n",
    "s6 = mul(r7,s5)\n",
    "s7 = mul(r8,s6)\n",
    "s8 = mul(r9,s7)\n",
    "s9 = mul(r10,s8)\n",
    "\n",
    "U_SSX_24 = DensityMatrix(s9)\n",
    "\n",
    "drawOperator(U_SSX_24)"
   ]
  },
  {
   "cell_type": "code",
   "execution_count": 52,
   "id": "590d385a",
   "metadata": {},
   "outputs": [
    {
     "data": {
      "text/latex": [
       "$$|\\psi\\rangle = (0.1464466094 - 0.3535533906 i) |1110\\rangle+(0.8535533906 + 0.3535533906 i) |1111\\rangle$$"
      ],
      "text/plain": [
       "<IPython.core.display.Latex object>"
      ]
     },
     "execution_count": 52,
     "metadata": {},
     "output_type": "execute_result"
    }
   ],
   "source": [
    "psi_new = result(U_SSX_24, psi)\n",
    "drawState(psi_new)"
   ]
  },
  {
   "cell_type": "markdown",
   "id": "43b297c2",
   "metadata": {},
   "source": [
    "#### U_SSX_dagger_24 (control qubit 2 and target qubit 4)"
   ]
  },
  {
   "cell_type": "code",
   "execution_count": 53,
   "id": "b1fd8863",
   "metadata": {},
   "outputs": [],
   "source": [
    "U_SSX_dagger_24 = U_SSX_24.conjugate()"
   ]
  },
  {
   "cell_type": "markdown",
   "id": "050542ee",
   "metadata": {},
   "source": [
    "## Final CCCNOT construction"
   ]
  },
  {
   "cell_type": "code",
   "execution_count": 55,
   "id": "f522916c",
   "metadata": {},
   "outputs": [],
   "source": [
    "s1 = mul(U_CNOT_12,U_SSX_14)\n",
    "s2 = mul(U_SSX_dagger_24,s1)\n",
    "s3 = mul(U_CNOT_12,s2)\n",
    "s4 = mul(U_SSX_24,s3)\n",
    "s5 = mul(U_CNOT_23,s4)\n",
    "s6 = mul(U_SSX_dagger_34,s5)\n",
    "s7 = mul(U_CNOT_13,s6)\n",
    "s8 = mul(U_SSX_34,s7)\n",
    "s9 = mul(U_CNOT_23,s8)\n",
    "s10 = mul(U_SSX_dagger_34,s9)\n",
    "s11 = mul(U_CNOT_13,s10)\n",
    "s12 = mul(U_SSX_34,s11)\n",
    "\n",
    "U_CCCNOT =DensityMatrix(s12) "
   ]
  },
  {
   "cell_type": "code",
   "execution_count": 56,
   "id": "f5146a24",
   "metadata": {},
   "outputs": [
    {
     "data": {
      "text/latex": [
       "$$\n",
       "\\rho = \n",
       "\\begin{bmatrix}\n",
       "1 & 0 & 0 & 0 & \\cdots & 0 & 0 & 0  \\\\\n",
       " 0 & 1 & 0 & 0 & \\cdots & 0 & 0 & 0  \\\\\n",
       " 0 & 0 & 1 & 0 & \\cdots & 0 & 0 & 0  \\\\\n",
       " 0 & 0 & 0 & 1 & \\cdots & 0 & 0 & 0  \\\\\n",
       " \\vdots & \\vdots & \\vdots & \\vdots & \\ddots & \\vdots & \\vdots & \\vdots \\\\\n",
       " 0 & 0 & 0 & 0 & \\cdots & 1 & 0 & 0  \\\\\n",
       " 0 & 0 & 0 & 0 & \\cdots & 0 & 0 & 1  \\\\\n",
       " 0 & 0 & 0 & 0 & \\cdots & 0 & 1 & 0  \\\\\n",
       " \\end{bmatrix}\n",
       "$$"
      ],
      "text/plain": [
       "<IPython.core.display.Latex object>"
      ]
     },
     "execution_count": 56,
     "metadata": {},
     "output_type": "execute_result"
    }
   ],
   "source": [
    "drawOperator(U_CCCNOT)"
   ]
  },
  {
   "cell_type": "markdown",
   "id": "42b3d888",
   "metadata": {},
   "source": [
    "#### Check CCCNOT"
   ]
  },
  {
   "cell_type": "code",
   "execution_count": 64,
   "id": "0ec34ef7",
   "metadata": {},
   "outputs": [
    {
     "data": {
      "text/latex": [
       "$$|\\psi\\rangle =  |1000\\rangle$$"
      ],
      "text/plain": [
       "<IPython.core.display.Latex object>"
      ]
     },
     "execution_count": 64,
     "metadata": {},
     "output_type": "execute_result"
    }
   ],
   "source": [
    "psi1 = states[4]\n",
    "drawState(psi1)"
   ]
  },
  {
   "cell_type": "code",
   "execution_count": 65,
   "id": "cc29cbd4",
   "metadata": {},
   "outputs": [
    {
     "data": {
      "text/latex": [
       "$$|\\psi\\rangle =  |1000\\rangle$$"
      ],
      "text/plain": [
       "<IPython.core.display.Latex object>"
      ]
     },
     "execution_count": 65,
     "metadata": {},
     "output_type": "execute_result"
    }
   ],
   "source": [
    "psi_new1 = result(U_CCCNOT, psi1)\n",
    "drawState(psi_new1)"
   ]
  },
  {
   "cell_type": "code",
   "execution_count": 66,
   "id": "501aa577",
   "metadata": {},
   "outputs": [
    {
     "data": {
      "text/latex": [
       "$$|\\psi\\rangle =  |1111\\rangle$$"
      ],
      "text/plain": [
       "<IPython.core.display.Latex object>"
      ]
     },
     "execution_count": 66,
     "metadata": {},
     "output_type": "execute_result"
    }
   ],
   "source": [
    "psi2 = states[15]\n",
    "drawState(psi2)"
   ]
  },
  {
   "cell_type": "code",
   "execution_count": 67,
   "id": "7f08f0da",
   "metadata": {},
   "outputs": [
    {
     "data": {
      "text/latex": [
       "$$|\\psi\\rangle =  |1110\\rangle$$"
      ],
      "text/plain": [
       "<IPython.core.display.Latex object>"
      ]
     },
     "execution_count": 67,
     "metadata": {},
     "output_type": "execute_result"
    }
   ],
   "source": [
    "psi_new2 = result(U_CCCNOT, psi2)\n",
    "drawState(psi_new2)"
   ]
  },
  {
   "cell_type": "code",
   "execution_count": 68,
   "id": "789f89ee",
   "metadata": {},
   "outputs": [
    {
     "data": {
      "text/latex": [
       "$$|\\psi\\rangle =  |0011\\rangle$$"
      ],
      "text/plain": [
       "<IPython.core.display.Latex object>"
      ]
     },
     "execution_count": 68,
     "metadata": {},
     "output_type": "execute_result"
    }
   ],
   "source": [
    "psi3 = states[10]\n",
    "drawState(psi3)"
   ]
  },
  {
   "cell_type": "code",
   "execution_count": 69,
   "id": "73ad3725",
   "metadata": {},
   "outputs": [
    {
     "data": {
      "text/latex": [
       "$$|\\psi\\rangle =  |0011\\rangle$$"
      ],
      "text/plain": [
       "<IPython.core.display.Latex object>"
      ]
     },
     "execution_count": 69,
     "metadata": {},
     "output_type": "execute_result"
    }
   ],
   "source": [
    "psi_new3 = result(U_CCCNOT, psi3)\n",
    "drawState(psi_new3)"
   ]
  },
  {
   "cell_type": "code",
   "execution_count": null,
   "id": "d7fd8c24",
   "metadata": {},
   "outputs": [],
   "source": []
  }
 ],
 "metadata": {
  "kernelspec": {
   "display_name": "Python 3 (ipykernel)",
   "language": "python",
   "name": "python3"
  },
  "language_info": {
   "codemirror_mode": {
    "name": "ipython",
    "version": 3
   },
   "file_extension": ".py",
   "mimetype": "text/x-python",
   "name": "python",
   "nbconvert_exporter": "python",
   "pygments_lexer": "ipython3",
   "version": "3.11.5"
  }
 },
 "nbformat": 4,
 "nbformat_minor": 5
}
