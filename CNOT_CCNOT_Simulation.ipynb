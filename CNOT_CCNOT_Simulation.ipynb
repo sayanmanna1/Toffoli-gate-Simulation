{
 "cells": [
  {
   "cell_type": "markdown",
   "metadata": {},
   "source": [
    "## Here we have provided simulation for 2-qubits CNOT and 3-qubits CCNOT gate based on EPR"
   ]
  },
  {
   "cell_type": "code",
   "execution_count": null,
   "metadata": {
    "id": "MNs60GwiykPm"
   },
   "outputs": [],
   "source": [
    "!pip install qiskit"
   ]
  },
  {
   "cell_type": "code",
   "execution_count": 1,
   "metadata": {
    "id": "9IBTR3c7yzIC"
   },
   "outputs": [],
   "source": [
    "from qiskit import QuantumCircuit\n",
    "import numpy as np\n",
    "from numpy import sqrt\n",
    "from qiskit.visualization import plot_bloch_multivector\n",
    "import qiskit.quantum_info as qi\n",
    "from qiskit.quantum_info import Statevector, DensityMatrix"
   ]
  },
  {
   "cell_type": "code",
   "execution_count": 2,
   "metadata": {
    "id": "euePIcUczC_E"
   },
   "outputs": [],
   "source": [
    "# To properly observe the the operator and states\n",
    "def drawState(psi):\n",
    "    return psi.draw('latex', prefix='|\\\\psi\\\\rangle = ')\n",
    "\n",
    "def drawOperator(rho):\n",
    "    return rho.draw('latex', prefix='\\\\rho = ')"
   ]
  },
  {
   "cell_type": "code",
   "execution_count": 46,
   "metadata": {
    "id": "Yp7iNCq0zIEa"
   },
   "outputs": [],
   "source": [
    "#Pauli operators (1-qubit) and Hadamard\n",
    "X = qi.Operator.from_label('X')\n",
    "Y = qi.Operator.from_label('Y')\n",
    "Z = qi.Operator.from_label('Z')\n",
    "I = qi.Operator.from_label('I')\n",
    "H = qi.Operator.from_label('H')"
   ]
  },
  {
   "cell_type": "code",
   "execution_count": 47,
   "metadata": {
    "id": "w8Nd1IwL0qIu"
   },
   "outputs": [],
   "source": [
    "def mul(A, B):#Matrix multiplication\n",
    "  return np.matmul(A,B)\n",
    "\n",
    "pi = np.pi"
   ]
  },
  {
   "cell_type": "markdown",
   "metadata": {
    "id": "3FHVLKVs133z"
   },
   "source": [
    "$$\n",
    "R_x(\\theta) = e^{-i \\frac{\\theta}{2} X}=\\cos\\left(\\frac{\\theta}{2}\\right) I - i \\sin\\left(\\frac{\\theta}{2}\\right) X\n",
    "$$\n",
    "$$\n",
    "R_y(\\theta) = e^{-i \\frac{\\theta}{2} Y}=\\cos\\left(\\frac{\\theta}{2}\\right) I - i \\sin\\left(\\frac{\\theta}{2}\\right) Y\n",
    "$$\n",
    "$$\n",
    "R_z(\\theta) = e^{-i \\frac{\\theta}{2} Z}=\\cos\\left(\\frac{\\theta}{2}\\right) I - i \\sin\\left(\\frac{\\theta}{2}\\right) Z\n",
    "$$\n",
    "$$\n",
    "R_{zz}(\\theta) = e^{-i \\frac{\\theta}{2} (Z \\otimes Z)}=\\cos\\left(\\frac{\\theta}{2}\\right) I - i \\sin\\left(\\frac{\\theta}{2}\\right) (Z \\otimes Z)\n",
    "$$\n",
    "\n"
   ]
  },
  {
   "cell_type": "markdown",
   "metadata": {},
   "source": [
    "# 1. CNOT gate"
   ]
  },
  {
   "cell_type": "code",
   "execution_count": 17,
   "metadata": {},
   "outputs": [],
   "source": [
    "I4 = I.tensor(I) # 4x4 identity matrix\n",
    "def exponential2(theta, A):#to calculate the unitary operator for 2 qubits (e^(iAx)=cos(x)I+i sin(x)A)\n",
    "  m = np.cos(theta)\n",
    "  if m<pow(10, -5):\n",
    "    m=0\n",
    "  a = DensityMatrix(m*I4)\n",
    "  b = DensityMatrix(np.sin(theta)*A)\n",
    "  return a+1j*b"
   ]
  },
  {
   "cell_type": "code",
   "execution_count": 16,
   "metadata": {},
   "outputs": [],
   "source": [
    "ZI = Z.tensor(I)\n",
    "IZ = I.tensor(Z)\n",
    "XI = X.tensor(I)\n",
    "IX = I.tensor(X)\n",
    "ZZ = Z.tensor(Z)\n",
    "XX = X.tensor(X)\n",
    "IY = I.tensor(Y)\n",
    "YI = Y.tensor(I)"
   ]
  },
  {
   "cell_type": "markdown",
   "metadata": {},
   "source": [
    "####  Control-Z or U_phi for CNOT"
   ]
  },
  {
   "cell_type": "code",
   "execution_count": 10,
   "metadata": {
    "id": "NckguyDu0rk4"
   },
   "outputs": [],
   "source": [
    "B_prime = exponential2(-pi/4, I4)\n",
    "Rz1z2 = exponential2(-pi/4, ZZ)\n",
    "Rx2 = exponential2(0, IX)\n",
    "Rx1 = exponential2(0, XI)\n",
    "Rz2 = exponential2(pi/4, IZ)\n",
    "Rz1 = exponential2(pi/4, ZI)"
   ]
  },
  {
   "cell_type": "code",
   "execution_count": 11,
   "metadata": {},
   "outputs": [
    {
     "data": {
      "text/latex": [
       "$$\n",
       "\\rho = \n",
       "\\begin{bmatrix}\n",
       "1 & 0 & 0 & 0  \\\\\n",
       " 0 & 1 & 0 & 0  \\\\\n",
       " 0 & 0 & 1 & 0  \\\\\n",
       " 0 & 0 & 0 & -1  \\\\\n",
       " \\end{bmatrix}\n",
       "$$"
      ],
      "text/plain": [
       "<IPython.core.display.Latex object>"
      ]
     },
     "execution_count": 11,
     "metadata": {},
     "output_type": "execute_result"
    }
   ],
   "source": [
    "c0 = mul(Rz1z2, B_prime)\n",
    "c1 = mul(Rx2,c0)\n",
    "c2 = mul(Rx1,c1)\n",
    "c3 = mul(Rz2,c2)\n",
    "c4 = mul(Rz1,c3)\n",
    "\n",
    "U_phi = DensityMatrix(c4)\n",
    "drawOperator(U_phi)"
   ]
  },
  {
   "cell_type": "markdown",
   "metadata": {},
   "source": [
    "#### Pseudo-Hadamard (U_H')"
   ]
  },
  {
   "cell_type": "code",
   "execution_count": 12,
   "metadata": {},
   "outputs": [],
   "source": [
    "U_H_prime = exponential2(-pi/4,IY)\n",
    "U_H_prime_dagger = exponential2(pi/4,IY)"
   ]
  },
  {
   "cell_type": "markdown",
   "metadata": {},
   "source": [
    "### Final CNOT"
   ]
  },
  {
   "cell_type": "code",
   "execution_count": 44,
   "metadata": {},
   "outputs": [],
   "source": [
    "c5 = mul(U_phi,U_H_prime_dagger)\n",
    "c6 = mul(U_H_prime, c5)\n",
    "\n",
    "U_CNOT = DensityMatrix(c6)"
   ]
  },
  {
   "cell_type": "code",
   "execution_count": 45,
   "metadata": {},
   "outputs": [
    {
     "data": {
      "text/latex": [
       "$$\n",
       "\\rho = \n",
       "\\begin{bmatrix}\n",
       "1 & 0 & 0 & 0  \\\\\n",
       " 0 & 1 & 0 & 0  \\\\\n",
       " 0 & 0 & 0 & 1  \\\\\n",
       " 0 & 0 & 1 & 0  \\\\\n",
       " \\end{bmatrix}\n",
       "$$"
      ],
      "text/plain": [
       "<IPython.core.display.Latex object>"
      ]
     },
     "execution_count": 45,
     "metadata": {},
     "output_type": "execute_result"
    }
   ],
   "source": [
    "drawOperator(U_CNOT)"
   ]
  },
  {
   "cell_type": "markdown",
   "metadata": {},
   "source": [
    "# 2. CCNOT"
   ]
  },
  {
   "cell_type": "code",
   "execution_count": 18,
   "metadata": {},
   "outputs": [],
   "source": [
    "I8 = I.tensor(I4)# 8x8 identity matrix\n",
    "def exponential3(theta, A):#to calculate the unitary operators for 3 qubits (e^(iAx)=cos(x)I+i sin(x)A)\n",
    "  m = np.cos(theta)\n",
    "  if m<pow(10, -5):\n",
    "    m=0\n",
    "  a = DensityMatrix(m*I8)\n",
    "  b = DensityMatrix(np.sin(theta)*A)\n",
    "  return a+1j*b"
   ]
  },
  {
   "cell_type": "code",
   "execution_count": 25,
   "metadata": {},
   "outputs": [],
   "source": [
    "IIZ = (I.tensor(I)).tensor(Z)\n",
    "IZI = (I.tensor(Z)).tensor(I)\n",
    "ZII = (Z.tensor(I)).tensor(I)\n",
    "\n",
    "ZZI = (Z.tensor(Z)).tensor(I)\n",
    "IZZ = (I.tensor(Z)).tensor(Z)\n",
    "ZIZ = (Z.tensor(I)).tensor(Z)\n",
    "\n",
    "IYI = I.tensor(Y.tensor(I))\n",
    "S2S3 = DensityMatrix(mul(IZI, IIZ))\n",
    "S1S3 = DensityMatrix(mul(ZII, IIZ))\n",
    "S1S2 = DensityMatrix(mul(ZII, IZI))\n",
    "YII = Y.tensor(I.tensor(I))\n",
    "IIY = I.tensor(I.tensor(Y))"
   ]
  },
  {
   "cell_type": "markdown",
   "metadata": {},
   "source": [
    "##### Here there are 2 kinds of gates - a) CNOT b) Controlled- X^(1/2), now first we have to create U_phi for both CNOT and Controlled- X^(1/2)"
   ]
  },
  {
   "cell_type": "markdown",
   "metadata": {},
   "source": [
    "####  Calculate U<sub>ϕ</sub> for CNOT when omega t = pi"
   ]
  },
  {
   "cell_type": "code",
   "execution_count": 26,
   "metadata": {},
   "outputs": [],
   "source": [
    "v0 = exponential3(-np.pi/4, I8)\n",
    "v1 = exponential3(-np.pi/4, IZZ)\n",
    "v2 = exponential3(-np.pi/4, ZIZ)\n",
    "v3 = exponential3(-np.pi/4, ZZI)\n",
    "v4 = exponential3(np.pi/4, IIZ)\n",
    "v5 = exponential3(np.pi/4, IZI)\n",
    "v6 = exponential3(np.pi/4, ZII)"
   ]
  },
  {
   "cell_type": "code",
   "execution_count": 27,
   "metadata": {},
   "outputs": [
    {
     "data": {
      "text/latex": [
       "$$\n",
       "\\rho = \n",
       "\\begin{bmatrix}\n",
       "\\frac{\\sqrt{2}}{2} - \\frac{\\sqrt{2} i}{2} & 0 & 0 & 0 & 0 & 0 & 0 & 0  \\\\\n",
       " 0 & \\frac{\\sqrt{2}}{2} + \\frac{\\sqrt{2} i}{2} & 0 & 0 & 0 & 0 & 0 & 0  \\\\\n",
       " 0 & 0 & \\frac{\\sqrt{2}}{2} + \\frac{\\sqrt{2} i}{2} & 0 & 0 & 0 & 0 & 0  \\\\\n",
       " 0 & 0 & 0 & \\frac{\\sqrt{2}}{2} - \\frac{\\sqrt{2} i}{2} & 0 & 0 & 0 & 0  \\\\\n",
       " 0 & 0 & 0 & 0 & \\frac{\\sqrt{2}}{2} + \\frac{\\sqrt{2} i}{2} & 0 & 0 & 0  \\\\\n",
       " 0 & 0 & 0 & 0 & 0 & \\frac{\\sqrt{2}}{2} - \\frac{\\sqrt{2} i}{2} & 0 & 0  \\\\\n",
       " 0 & 0 & 0 & 0 & 0 & 0 & \\frac{\\sqrt{2}}{2} - \\frac{\\sqrt{2} i}{2} & 0  \\\\\n",
       " 0 & 0 & 0 & 0 & 0 & 0 & 0 & \\frac{\\sqrt{2}}{2} + \\frac{\\sqrt{2} i}{2}  \\\\\n",
       " \\end{bmatrix}\n",
       "$$"
      ],
      "text/plain": [
       "<IPython.core.display.Latex object>"
      ]
     },
     "execution_count": 27,
     "metadata": {},
     "output_type": "execute_result"
    }
   ],
   "source": [
    "n0 = mul(v1,v0)\n",
    "n1 = mul(v2,n0)\n",
    "n2 = mul(v3,n1)\n",
    "n3 = mul(v4,n2)\n",
    "n4 = mul(v5,n3)\n",
    "n5 = mul(v6,n4)\n",
    "\n",
    "\n",
    "U_phi_CNOT = DensityMatrix(n5)\n",
    "\n",
    "drawOperator(U_phi_CNOT)"
   ]
  },
  {
   "cell_type": "markdown",
   "metadata": {},
   "source": [
    "#### Calculate U<sub>ϕ</sub> for Control X^(1/2)"
   ]
  },
  {
   "cell_type": "code",
   "execution_count": 31,
   "metadata": {},
   "outputs": [],
   "source": [
    "v0 = exponential3(np.pi/8, I8)\n",
    "v1 = exponential3(np.pi/8, IZZ)\n",
    "v2 = exponential3(np.pi/8, ZIZ)\n",
    "v3 = exponential3(np.pi/8, ZZI)\n",
    "v4 = exponential3(-np.pi/8, IIZ)\n",
    "v5 = exponential3(-np.pi/8, IZI)\n",
    "v6 = exponential3(-np.pi/8, ZII)"
   ]
  },
  {
   "cell_type": "code",
   "execution_count": 32,
   "metadata": {},
   "outputs": [
    {
     "data": {
      "text/latex": [
       "$$\n",
       "\\rho = \n",
       "\\begin{bmatrix}\n",
       "0.9238795325 + 0.3826834324 i & 0 & 0 & 0 & 0 & 0 & 0 & 0  \\\\\n",
       " 0 & 0.9238795325 - 0.3826834324 i & 0 & 0 & 0 & 0 & 0 & 0  \\\\\n",
       " 0 & 0 & 0.9238795325 - 0.3826834324 i & 0 & 0 & 0 & 0 & 0  \\\\\n",
       " 0 & 0 & 0 & 0.9238795325 + 0.3826834324 i & 0 & 0 & 0 & 0  \\\\\n",
       " 0 & 0 & 0 & 0 & 0.9238795325 - 0.3826834324 i & 0 & 0 & 0  \\\\\n",
       " 0 & 0 & 0 & 0 & 0 & 0.9238795325 + 0.3826834324 i & 0 & 0  \\\\\n",
       " 0 & 0 & 0 & 0 & 0 & 0 & 0.9238795325 + 0.3826834324 i & 0  \\\\\n",
       " 0 & 0 & 0 & 0 & 0 & 0 & 0 & -0.9238795325 + 0.3826834324 i  \\\\\n",
       " \\end{bmatrix}\n",
       "$$"
      ],
      "text/plain": [
       "<IPython.core.display.Latex object>"
      ]
     },
     "execution_count": 32,
     "metadata": {},
     "output_type": "execute_result"
    }
   ],
   "source": [
    "n0 = mul(v1,v0)\n",
    "n1 = mul(v2,n0)\n",
    "n2 = mul(v3,n1)\n",
    "n3 = mul(v4,n2)\n",
    "n4 = mul(v5,n3)\n",
    "n5 = mul(v6,n4)\n",
    "\n",
    "U_phi_SX = DensityMatrix(n5)\n",
    "\n",
    "drawOperator(U_phi_SX)"
   ]
  },
  {
   "cell_type": "markdown",
   "metadata": {},
   "source": [
    "#### Calculate U_CNOT_12"
   ]
  },
  {
   "cell_type": "code",
   "execution_count": 28,
   "metadata": {},
   "outputs": [],
   "source": [
    "b1 = exponential3(np.pi/4, IYI)\n",
    "b2 = exponential3(-np.pi/4, IIZ)\n",
    "b3 = exponential3(np.pi/4, S2S3)\n",
    "b4 = exponential3(np.pi/4, S1S3)\n",
    "b5 = U_phi_CNOT\n",
    "b6 = exponential3(-np.pi/4, IYI)"
   ]
  },
  {
   "cell_type": "code",
   "execution_count": 29,
   "metadata": {},
   "outputs": [
    {
     "data": {
      "text/latex": [
       "$$\n",
       "\\rho = \n",
       "\\begin{bmatrix}\n",
       "1 & 0 & 0 & 0 & 0 & 0 & 0 & 0  \\\\\n",
       " 0 & 1 & 0 & 0 & 0 & 0 & 0 & 0  \\\\\n",
       " 0 & 0 & 1 & 0 & 0 & 0 & 0 & 0  \\\\\n",
       " 0 & 0 & 0 & 1 & 0 & 0 & 0 & 0  \\\\\n",
       " 0 & 0 & 0 & 0 & 0 & 0 & 1 & 0  \\\\\n",
       " 0 & 0 & 0 & 0 & 0 & 0 & 0 & 1  \\\\\n",
       " 0 & 0 & 0 & 0 & 1 & 0 & 0 & 0  \\\\\n",
       " 0 & 0 & 0 & 0 & 0 & 1 & 0 & 0  \\\\\n",
       " \\end{bmatrix}\n",
       "$$"
      ],
      "text/plain": [
       "<IPython.core.display.Latex object>"
      ]
     },
     "execution_count": 29,
     "metadata": {},
     "output_type": "execute_result"
    }
   ],
   "source": [
    "o1 = mul(b2,b1)\n",
    "o2 = mul(b3,o1)\n",
    "o3 = mul(b4,o2)\n",
    "o4 = mul(b5,o3)\n",
    "o5 = mul(b6,o4)\n",
    "\n",
    "\n",
    "\n",
    "U_CNOT_12 = DensityMatrix(o5)\n",
    "\n",
    "drawOperator(U_CNOT_12)"
   ]
  },
  {
   "cell_type": "markdown",
   "metadata": {},
   "source": [
    "#### Calculate U_SX_23"
   ]
  },
  {
   "cell_type": "code",
   "execution_count": 33,
   "metadata": {},
   "outputs": [],
   "source": [
    "b1 = exponential3(np.pi/4, IIY)\n",
    "b2 = exponential3(np.pi/8, ZII)\n",
    "b3 = exponential3(-np.pi/8, S1S3)\n",
    "b4 = exponential3(-np.pi/8, S1S2)\n",
    "b5 = U_phi_SX\n",
    "b6 = exponential3(-np.pi/4, IIY)"
   ]
  },
  {
   "cell_type": "code",
   "execution_count": 34,
   "metadata": {},
   "outputs": [
    {
     "data": {
      "text/latex": [
       "$$\n",
       "\\rho = \n",
       "\\begin{bmatrix}\n",
       "1 & 0 & 0 & 0 & 0 & 0 & 0 & 0  \\\\\n",
       " 0 & 1 & 0 & 0 & 0 & 0 & 0 & 0  \\\\\n",
       " 0 & 0 & \\frac{1}{2} + \\frac{i}{2} & \\frac{1}{2} - \\frac{i}{2} & 0 & 0 & 0 & 0  \\\\\n",
       " 0 & 0 & \\frac{1}{2} - \\frac{i}{2} & \\frac{1}{2} + \\frac{i}{2} & 0 & 0 & 0 & 0  \\\\\n",
       " 0 & 0 & 0 & 0 & 1 & 0 & 0 & 0  \\\\\n",
       " 0 & 0 & 0 & 0 & 0 & 1 & 0 & 0  \\\\\n",
       " 0 & 0 & 0 & 0 & 0 & 0 & \\frac{1}{2} + \\frac{i}{2} & \\frac{1}{2} - \\frac{i}{2}  \\\\\n",
       " 0 & 0 & 0 & 0 & 0 & 0 & \\frac{1}{2} - \\frac{i}{2} & \\frac{1}{2} + \\frac{i}{2}  \\\\\n",
       " \\end{bmatrix}\n",
       "$$"
      ],
      "text/plain": [
       "<IPython.core.display.Latex object>"
      ]
     },
     "execution_count": 34,
     "metadata": {},
     "output_type": "execute_result"
    }
   ],
   "source": [
    "o1 = mul(b2,b1)\n",
    "o2 = mul(b3,o1)\n",
    "o3 = mul(b4,o2)\n",
    "o4 = mul(b5,o3)\n",
    "o5 = mul(b6,o4)\n",
    "\n",
    "\n",
    "U_SX_23 = DensityMatrix(o5)\n",
    "\n",
    "drawOperator(U_SX_23)"
   ]
  },
  {
   "cell_type": "markdown",
   "metadata": {},
   "source": [
    "#### Calculate U_SX_23_dagger"
   ]
  },
  {
   "cell_type": "code",
   "execution_count": 35,
   "metadata": {},
   "outputs": [
    {
     "data": {
      "text/latex": [
       "$$\n",
       "\\rho = \n",
       "\\begin{bmatrix}\n",
       "1 & 0 & 0 & 0 & 0 & 0 & 0 & 0  \\\\\n",
       " 0 & 1 & 0 & 0 & 0 & 0 & 0 & 0  \\\\\n",
       " 0 & 0 & \\frac{1}{2} - \\frac{i}{2} & \\frac{1}{2} + \\frac{i}{2} & 0 & 0 & 0 & 0  \\\\\n",
       " 0 & 0 & \\frac{1}{2} + \\frac{i}{2} & \\frac{1}{2} - \\frac{i}{2} & 0 & 0 & 0 & 0  \\\\\n",
       " 0 & 0 & 0 & 0 & 1 & 0 & 0 & 0  \\\\\n",
       " 0 & 0 & 0 & 0 & 0 & 1 & 0 & 0  \\\\\n",
       " 0 & 0 & 0 & 0 & 0 & 0 & \\frac{1}{2} - \\frac{i}{2} & \\frac{1}{2} + \\frac{i}{2}  \\\\\n",
       " 0 & 0 & 0 & 0 & 0 & 0 & \\frac{1}{2} + \\frac{i}{2} & \\frac{1}{2} - \\frac{i}{2}  \\\\\n",
       " \\end{bmatrix}\n",
       "$$"
      ],
      "text/plain": [
       "<IPython.core.display.Latex object>"
      ]
     },
     "execution_count": 35,
     "metadata": {},
     "output_type": "execute_result"
    }
   ],
   "source": [
    "U_SX_23_dagger = U_SX_23.conjugate()\n",
    "drawOperator(DensityMatrix(U_SX_23_dagger))"
   ]
  },
  {
   "cell_type": "markdown",
   "metadata": {},
   "source": [
    "#### Calculate U_SX_13"
   ]
  },
  {
   "cell_type": "code",
   "execution_count": 36,
   "metadata": {},
   "outputs": [],
   "source": [
    "b1 = exponential3(np.pi/4, IIY)\n",
    "b2 = exponential3(np.pi/8, IZI)\n",
    "b3 = exponential3(-np.pi/8, S2S3)\n",
    "b4 = exponential3(-np.pi/8, S1S2)\n",
    "b5 = U_phi_SX\n",
    "b6 = exponential3(-np.pi/4, IIY)"
   ]
  },
  {
   "cell_type": "code",
   "execution_count": 37,
   "metadata": {},
   "outputs": [
    {
     "data": {
      "text/latex": [
       "$$\n",
       "\\rho = \n",
       "\\begin{bmatrix}\n",
       "1 & 0 & 0 & 0 & 0 & 0 & 0 & 0  \\\\\n",
       " 0 & 1 & 0 & 0 & 0 & 0 & 0 & 0  \\\\\n",
       " 0 & 0 & 1 & 0 & 0 & 0 & 0 & 0  \\\\\n",
       " 0 & 0 & 0 & 1 & 0 & 0 & 0 & 0  \\\\\n",
       " 0 & 0 & 0 & 0 & \\frac{1}{2} + \\frac{i}{2} & \\frac{1}{2} - \\frac{i}{2} & 0 & 0  \\\\\n",
       " 0 & 0 & 0 & 0 & \\frac{1}{2} - \\frac{i}{2} & \\frac{1}{2} + \\frac{i}{2} & 0 & 0  \\\\\n",
       " 0 & 0 & 0 & 0 & 0 & 0 & \\frac{1}{2} + \\frac{i}{2} & \\frac{1}{2} - \\frac{i}{2}  \\\\\n",
       " 0 & 0 & 0 & 0 & 0 & 0 & \\frac{1}{2} - \\frac{i}{2} & \\frac{1}{2} + \\frac{i}{2}  \\\\\n",
       " \\end{bmatrix}\n",
       "$$"
      ],
      "text/plain": [
       "<IPython.core.display.Latex object>"
      ]
     },
     "execution_count": 37,
     "metadata": {},
     "output_type": "execute_result"
    }
   ],
   "source": [
    "o1 = mul(b2,b1)\n",
    "o2 = mul(b3,o1)\n",
    "o3 = mul(b4,o2)\n",
    "o4 = mul(b5,o3)\n",
    "o5 = mul(b6,o4)\n",
    "\n",
    "U_SX_13 = DensityMatrix(o5)\n",
    "\n",
    "drawOperator(U_SX_13)"
   ]
  },
  {
   "cell_type": "markdown",
   "metadata": {},
   "source": [
    "## Construction of final CCNOT"
   ]
  },
  {
   "cell_type": "code",
   "execution_count": 40,
   "metadata": {},
   "outputs": [],
   "source": [
    "q1 = mul(U_CNOT_12, U_SX_23)\n",
    "q2 = mul(U_SX_23_dagger, q1)\n",
    "q3 = mul(U_CNOT_12, q2)\n",
    "q4 = mul(U_SX_13, q3)\n",
    "\n",
    "U_CCNOT = DensityMatrix(q4)"
   ]
  },
  {
   "cell_type": "code",
   "execution_count": 43,
   "metadata": {},
   "outputs": [
    {
     "data": {
      "text/latex": [
       "$$\n",
       "\\rho = \n",
       "\\begin{bmatrix}\n",
       "1 & 0 & 0 & 0 & 0 & 0 & 0 & 0  \\\\\n",
       " 0 & 1 & 0 & 0 & 0 & 0 & 0 & 0  \\\\\n",
       " 0 & 0 & 1 & 0 & 0 & 0 & 0 & 0  \\\\\n",
       " 0 & 0 & 0 & 1 & 0 & 0 & 0 & 0  \\\\\n",
       " 0 & 0 & 0 & 0 & 1 & 0 & 0 & 0  \\\\\n",
       " 0 & 0 & 0 & 0 & 0 & 1 & 0 & 0  \\\\\n",
       " 0 & 0 & 0 & 0 & 0 & 0 & 0 & 1  \\\\\n",
       " 0 & 0 & 0 & 0 & 0 & 0 & 1 & 0  \\\\\n",
       " \\end{bmatrix}\n",
       "$$"
      ],
      "text/plain": [
       "<IPython.core.display.Latex object>"
      ]
     },
     "execution_count": 43,
     "metadata": {},
     "output_type": "execute_result"
    }
   ],
   "source": [
    "drawOperator(U_CCNOT)"
   ]
  },
  {
   "cell_type": "code",
   "execution_count": null,
   "metadata": {},
   "outputs": [],
   "source": []
  }
 ],
 "metadata": {
  "colab": {
   "provenance": []
  },
  "kernelspec": {
   "display_name": "Python 3 (ipykernel)",
   "language": "python",
   "name": "python3"
  },
  "language_info": {
   "codemirror_mode": {
    "name": "ipython",
    "version": 3
   },
   "file_extension": ".py",
   "mimetype": "text/x-python",
   "name": "python",
   "nbconvert_exporter": "python",
   "pygments_lexer": "ipython3",
   "version": "3.11.5"
  }
 },
 "nbformat": 4,
 "nbformat_minor": 1
}
